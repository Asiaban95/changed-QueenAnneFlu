{
 "cells": [
  {
   "cell_type": "markdown",
   "metadata": {
    "id": "ohvIrKVM2e3e"
   },
   "source": [
    "### Codes\n",
    "\n",
    "Import necessary libraries to run this model."
   ]
  },
  {
   "cell_type": "code",
   "execution_count": 20,
   "metadata": {
    "colab": {
     "base_uri": "https://localhost:8080/"
    },
    "id": "55-l1Kax2e3f",
    "outputId": "ff50fdc1-917a-4d6e-873b-f5287e2243c9"
   },
   "outputs": [
    {
     "output_type": "stream",
     "name": "stdout",
     "text": [
      "Requirement already satisfied: pyswarms in /usr/local/lib/python3.10/dist-packages (1.3.0)\n",
      "Requirement already satisfied: scipy in /usr/local/lib/python3.10/dist-packages (from pyswarms) (1.11.4)\n",
      "Requirement already satisfied: numpy in /usr/local/lib/python3.10/dist-packages (from pyswarms) (1.23.5)\n",
      "Requirement already satisfied: matplotlib>=1.3.1 in /usr/local/lib/python3.10/dist-packages (from pyswarms) (3.7.1)\n",
      "Requirement already satisfied: attrs in /usr/local/lib/python3.10/dist-packages (from pyswarms) (23.2.0)\n",
      "Requirement already satisfied: tqdm in /usr/local/lib/python3.10/dist-packages (from pyswarms) (4.66.1)\n",
      "Requirement already satisfied: future in /usr/local/lib/python3.10/dist-packages (from pyswarms) (0.18.3)\n",
      "Requirement already satisfied: pyyaml in /usr/local/lib/python3.10/dist-packages (from pyswarms) (6.0.1)\n",
      "Requirement already satisfied: contourpy>=1.0.1 in /usr/local/lib/python3.10/dist-packages (from matplotlib>=1.3.1->pyswarms) (1.2.0)\n",
      "Requirement already satisfied: cycler>=0.10 in /usr/local/lib/python3.10/dist-packages (from matplotlib>=1.3.1->pyswarms) (0.12.1)\n",
      "Requirement already satisfied: fonttools>=4.22.0 in /usr/local/lib/python3.10/dist-packages (from matplotlib>=1.3.1->pyswarms) (4.47.2)\n",
      "Requirement already satisfied: kiwisolver>=1.0.1 in /usr/local/lib/python3.10/dist-packages (from matplotlib>=1.3.1->pyswarms) (1.4.5)\n",
      "Requirement already satisfied: packaging>=20.0 in /usr/local/lib/python3.10/dist-packages (from matplotlib>=1.3.1->pyswarms) (23.2)\n",
      "Requirement already satisfied: pillow>=6.2.0 in /usr/local/lib/python3.10/dist-packages (from matplotlib>=1.3.1->pyswarms) (9.4.0)\n",
      "Requirement already satisfied: pyparsing>=2.3.1 in /usr/local/lib/python3.10/dist-packages (from matplotlib>=1.3.1->pyswarms) (3.1.1)\n",
      "Requirement already satisfied: python-dateutil>=2.7 in /usr/local/lib/python3.10/dist-packages (from matplotlib>=1.3.1->pyswarms) (2.8.2)\n",
      "Requirement already satisfied: six>=1.5 in /usr/local/lib/python3.10/dist-packages (from python-dateutil>=2.7->matplotlib>=1.3.1->pyswarms) (1.16.0)\n",
      "Requirement already satisfied: gitpython in /usr/local/lib/python3.10/dist-packages (3.1.41)\n",
      "Requirement already satisfied: gitdb<5,>=4.0.1 in /usr/local/lib/python3.10/dist-packages (from gitpython) (4.0.11)\n",
      "Requirement already satisfied: smmap<6,>=3.0.1 in /usr/local/lib/python3.10/dist-packages (from gitdb<5,>=4.0.1->gitpython) (5.0.1)\n"
     ]
    }
   ],
   "source": [
    "!pip install pyswarms\n",
    "!pip install gitpython"
   ]
  },
  {
   "cell_type": "code",
   "execution_count": 21,
   "metadata": {
    "id": "woGNkjuY2e3g"
   },
   "outputs": [],
   "source": [
    "import numpy as np\n",
    "import folium, itertools, math, pickle, random, time\n",
    "import pandas as pd\n",
    "import matplotlib.pyplot as plt\n",
    "import matplotlib.pylab as pylab\n",
    "import matplotlib.image as mpimg\n",
    "import matplotlib.animation as animation\n",
    "from os import path\n",
    "import pyswarms as ps\n",
    "from pyproj import Proj, transform\n",
    "\n",
    "import os\n",
    "os.environ[\"PROJ_LIB\"] = '/opt/conda/envs/python2/share/proj'"
   ]
  },
  {
   "cell_type": "code",
   "execution_count": 22,
   "metadata": {
    "colab": {
     "base_uri": "https://localhost:8080/"
    },
    "id": "bwE4LrpuXtsX",
    "outputId": "dae5087f-d063-41ec-ed58-9b19e9ec4c90"
   },
   "outputs": [
    {
     "output_type": "stream",
     "name": "stdout",
     "text": [
      "fetched Python file Env from the specified URL.\n",
      "fetched Python file Human from the specified URL.\n"
     ]
    }
   ],
   "source": [
    "import importlib.util\n",
    "import sys\n",
    "import requests\n",
    "\n",
    "# Define the raw URL of the Python files on GitHub\n",
    "base_url = \"https://raw.githubusercontent.com/Asiaban95/changed-QueenAnneFlu/master/\"\n",
    "files = [\"Env.py\", \"Human.py\"]\n",
    "\n",
    "# Function to import a Python module dynamically\n",
    "def import_module(module_name, file_url):\n",
    "    response = requests.get(file_url)\n",
    "    if response.status_code == 200:\n",
    "        # Define a module object\n",
    "        module = importlib.util.module_from_spec(importlib.util.spec_from_loader(module_name, loader=None))\n",
    "\n",
    "        # Execute the code from the response text in the module's namespace\n",
    "        exec(response.text, module.__dict__)\n",
    "\n",
    "        # Add the module to the sys.modules dictionary\n",
    "        sys.modules[module_name] = module\n",
    "        print(f\"fetched Python file {module_name} from the specified URL.\")\n",
    "\n",
    "    else:\n",
    "        print(f\"Failed to fetch Python file {module_name} from the specified URL.\")\n",
    "\n",
    "# Import both Env.py and Human.py modules\n",
    "for file in files:\n",
    "    module_name = file.split(\".\")[0]\n",
    "    file_url = base_url + file\n",
    "    import_module(module_name, file_url)\n",
    "\n",
    "# Now you can use the Env and Human modules\n",
    "import Env\n",
    "import Human\n"
   ]
  },
  {
   "cell_type": "markdown",
   "metadata": {
    "id": "XWZty8Xj2e3g"
   },
   "source": [
    "Import python codes containing the classes and functions for environment and human behaviors."
   ]
  },
  {
   "cell_type": "markdown",
   "metadata": {
    "id": "_3z9ud3I2e3h"
   },
   "source": [
    "<a name=\"data\"></a>\n",
    "## Load (or Find) Your Data"
   ]
  },
  {
   "cell_type": "markdown",
   "metadata": {
    "id": "D9h9ylBu2e3h"
   },
   "source": [
    "Files of households, workplaces, and schools for the Queen Anne neighborhood are imported."
   ]
  },
  {
   "cell_type": "markdown",
   "metadata": {
    "id": "_nv0DTKE2e3h"
   },
   "source": [
    "Choose x and y limits (in UTM) and filter houses to select those in the Queen Anne neighborhood."
   ]
  },
  {
   "cell_type": "code",
   "execution_count": 23,
   "metadata": {
    "colab": {
     "base_uri": "https://localhost:8080/"
    },
    "id": "0DzIO5Gq2e3h",
    "outputId": "488c7b29-ecda-4699-b12c-57782cf43a1b"
   },
   "outputs": [
    {
     "output_type": "stream",
     "name": "stdout",
     "text": [
      "16755  of  391992  houses filtered.\n"
     ]
    }
   ],
   "source": [
    "# Files of households, workplaces, and schools are imported.\n",
    "CITY = \"QueenAnne\" # name of the city you're loading data for\n",
    "url = 'https://raw.githubusercontent.com/cybergis/QueenAnneFlu/master/data/{}/houses_points.csv'.format(CITY)\n",
    "url_schools = 'https://raw.githubusercontent.com/cybergis/QueenAnneFlu/master/data/{}/schools_points.csv'.format(CITY)\n",
    "url_works = 'https://raw.githubusercontent.com/cybergis/QueenAnneFlu/master/data/{}/works_points.csv'.format(CITY)\n",
    "\n",
    "# Load Houses data\n",
    "houses = pd.read_csv(url)\n",
    "\n",
    "# Load schools data\n",
    "schools = pd.read_csv(url_schools)\n",
    "\n",
    "# Load works data\n",
    "works = pd.read_csv(url_works)\n",
    "\n",
    "# Choose x and y limits (in UTM) and filter houses\n",
    "xmin = 546302;\n",
    "xmax = 549610;\n",
    "ymin = 5274394;\n",
    "ymax = 5277978;\n",
    "nhouses_old = len(houses);\n",
    "houses = houses[(houses.X >= xmin) & (houses.X <= xmax) & (houses.Y >= ymin) & (houses.Y <= ymax)];\n",
    "nhouses_new = len(houses);\n",
    "print(nhouses_new,\" of \",nhouses_old,\" houses filtered.\")"
   ]
  },
  {
   "cell_type": "markdown",
   "metadata": {
    "id": "C60DxUlN2e3h"
   },
   "source": [
    "Inspect first five rows of the house, school, and workplace datasets, then create figures to plot the house, school, and workplace datasets."
   ]
  },
  {
   "cell_type": "code",
   "execution_count": 24,
   "metadata": {
    "colab": {
     "base_uri": "https://localhost:8080/"
    },
    "id": "VL-q_n8u2e3i",
    "outputId": "ea92a09c-8f65-4c77-da14-9e6bee5d9d3f"
   },
   "outputs": [
    {
     "output_type": "stream",
     "name": "stdout",
     "text": [
      "The number of Multi-Family households is  5282\n",
      "The number of Single Family households is  11473\n",
      "The number of households in total: 16755\n"
     ]
    },
    {
     "output_type": "stream",
     "name": "stderr",
     "text": [
      "<ipython-input-24-95dcbb04fe26>:6: SettingWithCopyWarning: \n",
      "A value is trying to be set on a copy of a slice from a DataFrame.\n",
      "Try using .loc[row_indexer,col_indexer] = value instead\n",
      "\n",
      "See the caveats in the documentation: https://pandas.pydata.org/pandas-docs/stable/user_guide/indexing.html#returning-a-view-versus-a-copy\n",
      "  houses.loc[houses['DESCR'] == house_cat[i], 'color'] = rd_color[i]   # set value for color column\n",
      "<ipython-input-24-95dcbb04fe26>:10: SettingWithCopyWarning: \n",
      "A value is trying to be set on a copy of a slice from a DataFrame.\n",
      "Try using .loc[row_indexer,col_indexer] = value instead\n",
      "\n",
      "See the caveats in the documentation: https://pandas.pydata.org/pandas-docs/stable/user_guide/indexing.html#returning-a-view-versus-a-copy\n",
      "  houses['lat'] = houselonlat[1]\n",
      "<ipython-input-24-95dcbb04fe26>:11: SettingWithCopyWarning: \n",
      "A value is trying to be set on a copy of a slice from a DataFrame.\n",
      "Try using .loc[row_indexer,col_indexer] = value instead\n",
      "\n",
      "See the caveats in the documentation: https://pandas.pydata.org/pandas-docs/stable/user_guide/indexing.html#returning-a-view-versus-a-copy\n",
      "  houses['lon'] = houselonlat[0]\n"
     ]
    }
   ],
   "source": [
    "house_cat = houses.DESCR.unique().tolist() # Obtain the type of households\n",
    "house_dict = {}\n",
    "rd_color =[\"#\"+''.join([random.choice('0123456789ABCDEF') for j in range(6)])\n",
    "                 for i in range(len(house_cat))]  # generated random color based on the types of households\n",
    "for i in range(len(house_cat)):\n",
    "    houses.loc[houses['DESCR'] == house_cat[i], 'color'] = rd_color[i]   # set value for color column\n",
    "    house_dict[house_cat[i]] = rd_color[i]\n",
    "housemyProj = Proj(proj='utm', zone=10, ellps='WGS84', datum='WGS84', units='m')\n",
    "houselonlat = housemyProj(houses['X'].values.tolist(), houses['Y'].values.tolist(), inverse=True)\n",
    "houses['lat'] = houselonlat[1]\n",
    "houses['lon'] = houselonlat[0]\n",
    "# count the number by house types\n",
    "for key,value in house_dict.items():\n",
    "    sub_houses = houses[houses.DESCR == key]\n",
    "    print(\"The number of\", key, \"households is \",len(sub_houses)) # counting the number of houeholds\n",
    "\n",
    "print(\"The number of households in total:\", len(houses)) # counting the number of households"
   ]
  },
  {
   "cell_type": "code",
   "execution_count": 25,
   "metadata": {
    "colab": {
     "base_uri": "https://localhost:8080/"
    },
    "id": "csWDlf8A2e3i",
    "outputId": "f48887a5-f79b-4843-cd1a-4d57ff024885"
   },
   "outputs": [
    {
     "output_type": "stream",
     "name": "stdout",
     "text": [
      "The number of College or University schools is  13\n",
      "The number of Elementary schools is  103\n",
      "The number of High schools is  22\n",
      "The number of Alternative schools is  24\n",
      "The number of Junior High/Middle schools is  18\n",
      "The number of Other Facility schools is  2\n",
      "The number of K-12 schools is  1\n",
      "The number of schools in total: 183\n"
     ]
    }
   ],
   "source": [
    "school_cat = schools.CODE.unique().tolist() # Obtain the type of schools\n",
    "school_dict = {}\n",
    "rd_color =[\"#\"+''.join([random.choice('0123456789ABCDEF') for j in range(6)])\n",
    "                 for i in range(len(school_cat))]   # generate random color based on the types of schools\n",
    "for i in range(len(school_cat)):\n",
    "    schools.loc[schools['CODE'] == school_cat[i], 'color'] = rd_color[i]   # set value for color column\n",
    "    school_dict[school_cat[i]] = rd_color[i]\n",
    "\n",
    "schoolmyProj = Proj(proj='utm', zone=10, north=True, ellps='WGS84', datum='WGS84', units='m')\n",
    "schoollonlat = schoolmyProj(schools['X'].values.tolist(), schools['Y'].values.tolist(), inverse=True)\n",
    "schools['lat'] = schoollonlat[1]\n",
    "schools['lon'] = schoollonlat[0]\n",
    "# count the number by school types\n",
    "for key,value in school_dict.items():\n",
    "    sub_schools = schools[schools.CODE == key]\n",
    "    print(\"The number of\", key, \"schools is \",len(sub_schools)) # counting the number of schools\n",
    "\n",
    "print(\"The number of schools in total:\", len(schools)) # counting the number of schools"
   ]
  },
  {
   "cell_type": "code",
   "execution_count": 26,
   "metadata": {
    "colab": {
     "base_uri": "https://localhost:8080/"
    },
    "id": "Vm2pR3-82e3j",
    "outputId": "1c19777e-b3de-43fe-d045-6835679f5bdf",
    "scrolled": false
   },
   "outputs": [
    {
     "output_type": "stream",
     "name": "stdout",
     "text": [
      "The number of Commercial/Mixed Use workplace is  15040\n",
      "The number of Manufacturing/Industrial workplace is  6066\n",
      "The number of Downtown workplace is  1672\n",
      "The number of workplace in total: 22778\n"
     ]
    }
   ],
   "source": [
    "work_cat = works.DESCR.unique().tolist() # obtain the type of workplaces\n",
    "work_dict = {}\n",
    "rd_color =[\"#\"+''.join([random.choice('0123456789ABCDEF') for j in range(6)])\n",
    "                 for i in range(len(work_cat))]  # generate random color based on the types of workplaces\n",
    "for i in range(len(work_cat)):\n",
    "    works.loc[works['DESCR'] == work_cat[i], 'color'] = rd_color[i]   # set value for color column\n",
    "    work_dict[work_cat[i]] = rd_color[i]\n",
    "\n",
    "workmyProj = Proj(proj='utm', zone=10, north=True, ellps='WGS84', datum='WGS84', units='m')\n",
    "worklonlat = workmyProj(works['X'].values.tolist(), works['Y'].values.tolist(), inverse=True)\n",
    "works['lat'] = worklonlat[1]\n",
    "works['lon'] = worklonlat[0]\n",
    "# count the number by workplace types\n",
    "for key, value in work_dict.items():\n",
    "    sub_works = works[works.DESCR == key]\n",
    "    print(\"The number of\", key, \"workplace is \",len(sub_works)) # counting the number of schools\n",
    "print(\"The number of workplace in total:\", len(works)) # counting the number of schools"
   ]
  },
  {
   "cell_type": "markdown",
   "metadata": {
    "id": "iqF62qKl2e3j"
   },
   "source": [
    "Before running the simulation, the environments (schools, workplaces, households) and individual human agents needs to be set up. <br>\n",
    "The functions of _settingSchools ()_, _settingWorks()_, and _settingHouseholds()_ are included in _Env.py_. <br>\n",
    "The function of _settingHumanAgent()_ is included in _Human.py_."
   ]
  },
  {
   "cell_type": "markdown",
   "metadata": {
    "id": "ypDEU7A72e3j"
   },
   "source": [
    "<a name=\"synthesize\"></a>\n",
    "## Synthesize a Population"
   ]
  },
  {
   "cell_type": "code",
   "execution_count": 27,
   "metadata": {
    "colab": {
     "base_uri": "https://localhost:8080/"
    },
    "id": "4E86qtTa2e3j",
    "outputId": "69bf3838-53d6-49e2-9a42-704edf5f4aad"
   },
   "outputs": [
    {
     "output_type": "stream",
     "name": "stdout",
     "text": [
      "...loaded data from https://raw.githubusercontent.com/cybergis/QueenAnneFlu/master/data/QueenAnne/schoolList.pickle...\n",
      "...loaded data from https://raw.githubusercontent.com/cybergis/QueenAnneFlu/master/data/QueenAnne/workList.pickle...\n",
      "...loaded data from https://raw.githubusercontent.com/cybergis/QueenAnneFlu/master/data/QueenAnne/houseList.pickle...\n",
      "...loaded data from https://raw.githubusercontent.com/cybergis/QueenAnneFlu/master/data/QueenAnne/peopleList.pickle...\n"
     ]
    }
   ],
   "source": [
    "import pickle\n",
    "import requests\n",
    "from io import BytesIO\n",
    "\n",
    "# Function to load or write pickle data\n",
    "def load_or_write_pickle(url, default_data=None):\n",
    "    try:\n",
    "        response = requests.get(url)\n",
    "        if response.status_code == 200:\n",
    "            print(f\"...loaded data from {url}...\")\n",
    "            return pickle.load(BytesIO(response.content))\n",
    "    except:\n",
    "        pass\n",
    "\n",
    "    print(f\"...fetching data from {url}...\")\n",
    "    data = default_data() if callable(default_data) else default_data\n",
    "    response = requests.get(url)\n",
    "    if response.status_code == 200:\n",
    "        with open(BytesIO(response.content), 'wb') as f:\n",
    "            pickle.dump(data, f)\n",
    "    return data\n",
    "\n",
    "# Construct URLs\n",
    "base_url = 'https://raw.githubusercontent.com/cybergis/QueenAnneFlu/master/data/{}/'\n",
    "school_url = base_url + 'schoolList.pickle'\n",
    "work_url = base_url + 'workList.pickle'\n",
    "house_url = base_url + 'houseList.pickle'\n",
    "people_url = base_url + 'peopleList.pickle'\n",
    "\n",
    "# Load or write pickle data\n",
    "schoolList = load_or_write_pickle(school_url.format(CITY), default_data=lambda: Env.settingSchools(f'./data/{CITY}'))\n",
    "workList = load_or_write_pickle(work_url.format(CITY), default_data=lambda: Env.settingWorks(f'./data/{CITY}'))\n",
    "houseList = load_or_write_pickle(house_url.format(CITY), default_data=lambda: Env.settingHouseholds(f'./data/{CITY}', schoolList, workList, houses=houses))\n",
    "peopleList = load_or_write_pickle(people_url.format(CITY), default_data=lambda: Human.settingHumanAgent(houseList))\n"
   ]
  },
  {
   "cell_type": "markdown",
   "metadata": {
    "id": "iXV_hBK52e3j"
   },
   "source": [
    "Inspect the age distribution of the human agents."
   ]
  },
  {
   "cell_type": "code",
   "execution_count": 28,
   "metadata": {
    "colab": {
     "base_uri": "https://localhost:8080/",
     "height": 873
    },
    "id": "QSy8eVMD2e3j",
    "outputId": "e66dfe97-7876-4123-81bd-de7e9adeeba2",
    "scrolled": false
   },
   "outputs": [
    {
     "output_type": "stream",
     "name": "stdout",
     "text": [
      "Total population: 33648\n"
     ]
    },
    {
     "output_type": "display_data",
     "data": {
      "text/plain": [
       "<Figure size 1000x1000 with 1 Axes>"
      ],
      "image/png": "[encoded data removed]"
     },
     "metadata": {}
    }
   ],
   "source": [
    "# make a histogram for age distributions of human agents\n",
    "age = [peopleList[i].age for i in range(0,len(peopleList))] # make a list for people's age\n",
    "plt.figure(figsize=(10,10))\n",
    "plt.hist(age, bins=20, color='orange', edgecolor='black', linewidth=1.2)\n",
    "plt.xlabel(\"Age\", size=15)\n",
    "plt.ylabel(\"Number of people\", size=15)\n",
    "print(\"Total population:\", len(peopleList))"
   ]
  },
  {
   "cell_type": "markdown",
   "metadata": {
    "id": "w7qBKXsC2e3k"
   },
   "source": [
    "### Initial settings of the ABM model\n",
    "\n",
    "1. introRate: the number of people who are randomized as exposed at the beginning of the simulation.\n",
    "\n",
    "2. reproduction: the expected average number of secondary infection cases taking place per a single infection case.\n",
    "\n",
    "3. infRate: the probability that an individual human becomes infectious when he/she contacts an infectious person.\n",
    "\n",
    "4. days: the duration for the simulation to be run.\n",
    "\n",
    "_Attention!!!_ Now, this model is assumed to be run for 30 days, but to be fully completed, the days parameter should be 155."
   ]
  },
  {
   "cell_type": "code",
   "execution_count": 29,
   "metadata": {
    "colab": {
     "base_uri": "https://localhost:8080/",
     "height": 139,
     "referenced_widgets": [
      "196ab0fcb38a46ba859b896d5032609a",
      "b6459ffff5804ecba1b1256f1699492e",
      "813bec71045f4f81b4990782100b8979",
      "74cb2c735bd04d6a92b0249fa7a6a4cb",
      "5c1c89e21dee4b2a9437f1cb43b7f2d1",
      "cb0f3b6b1856484d9239bcad2d6f7722",
      "0bf184a9454e42b79f94166ee9b3aa37",
      "9be26369d40e487ebc3712ae80337cca",
      "6400092c67044c67ac77c0f8fc42113f",
      "0c4c94cdedb24125bb53b50d5496bf4f",
      "06e2fb7c84bb4387af83ab4cfa1b54f6",
      "8c744d0789b4450ab1546709000b9600"
     ]
    },
    "id": "9uxa5jsq2e3k",
    "outputId": "f9a52ad9-d359-4202-be85-2d846977c090"
   },
   "outputs": [
    {
     "output_type": "display_data",
     "data": {
      "text/plain": [
       "IntSlider(value=5, description='introRate', max=10)"
      ],
      "application/vnd.jupyter.widget-view+json": {
       "version_major": 2,
       "version_minor": 0,
       "model_id": "196ab0fcb38a46ba859b896d5032609a"
      }
     },
     "metadata": {}
    },
    {
     "output_type": "display_data",
     "data": {
      "text/plain": [
       "FloatSlider(value=2.4, description='reproduction', max=5.0)"
      ],
      "application/vnd.jupyter.widget-view+json": {
       "version_major": 2,
       "version_minor": 0,
       "model_id": "74cb2c735bd04d6a92b0249fa7a6a4cb"
      }
     },
     "metadata": {}
    },
    {
     "output_type": "display_data",
     "data": {
      "text/plain": [
       "FloatSlider(value=0.18, description='infRate', max=1.0, step=0.01)"
      ],
      "application/vnd.jupyter.widget-view+json": {
       "version_major": 2,
       "version_minor": 0,
       "model_id": "0bf184a9454e42b79f94166ee9b3aa37"
      }
     },
     "metadata": {}
    },
    {
     "output_type": "display_data",
     "data": {
      "text/plain": [
       "IntSlider(value=30, description='days', max=155)"
      ],
      "application/vnd.jupyter.widget-view+json": {
       "version_major": 2,
       "version_minor": 0,
       "model_id": "0c4c94cdedb24125bb53b50d5496bf4f"
      }
     },
     "metadata": {}
    }
   ],
   "source": [
    "import ipywidgets as widgets\n",
    "introRateW = widgets.IntSlider(min=0,max=10,value=5, description=\"introRate\")\n",
    "reproW = widgets.FloatSlider(min=0, max=5, step=0.1,value=2.4, description=\"reproduction\")\n",
    "infW = widgets.FloatSlider(min=0, max=1, step=.01, value=0.18, description=\"infRate\")\n",
    "daysW = widgets.IntSlider(min=0, max=155, value = 30, description=\"days\")\n",
    "display(introRateW, reproW, infW, daysW)"
   ]
  },
  {
   "cell_type": "code",
   "execution_count": 30,
   "metadata": {
    "id": "svwno1FZ2e3k"
   },
   "outputs": [],
   "source": [
    "introRate = float(introRateW.value)/10000.0\n",
    "reproduction = reproW.value\n",
    "infRate = infW.value\n",
    "days = daysW.value # the list for counting infectious people over simulation days."
   ]
  },
  {
   "cell_type": "markdown",
   "metadata": {
    "id": "b3XDQOzK2e3k"
   },
   "source": [
    "<a name=\"simulation\"></a>\n",
    "### Processes of the ABM model\n",
    "\n",
    "1. **for loop** was used to set up simulation perods.\n",
    "2. During each day, susceptible humans have a chance to be exposed to Influenza by infectious humans.\n",
    "3. The exposed humans were assumed to become infectious after an incubation period (3 days).\n",
    "4. The infected humans were assumed to recover after an infectious period (7 days)."
   ]
  },
  {
   "cell_type": "code",
   "execution_count": 31,
   "metadata": {
    "id": "BXJt0YmU2e3k",
    "scrolled": false
   },
   "outputs": [],
   "source": [
    "from tqdm.notebook import tqdm\n",
    "def ABMprocess(introRate,reproduction,infRate,days,peopleList,realdata):\n",
    "  #initial infections based on the introRate\n",
    "  peopleList = Env.initialInfection(peopleList, introRate)\n",
    "\n",
    "  total_simulation_time=0\n",
    "  infectiousCount=[]\n",
    "  exposedX = []\n",
    "  exposedY = []\n",
    "  exposedT = []\n",
    "\n",
    "  for t in tqdm(range(1,days), desc=\"Time Steps\"):\n",
    "      start = time.time()\n",
    "      susceptibleList=[]\n",
    "      exposedList=[]\n",
    "      infectiousList=[]\n",
    "      recoveredList=[]\n",
    "      for p in tqdm(range(0,len(peopleList)), desc=\"Update States\", leave=False):\n",
    "          person = peopleList[p]\n",
    "          person.incubating()\n",
    "          person.recovering()\n",
    "\n",
    "          if (person.S==True):\n",
    "              susceptibleList.append(person)\n",
    "          if (person.E==True):\n",
    "              exposedList.append(person)\n",
    "          if (person.I==True):\n",
    "              infectiousList.append(person)\n",
    "          if (person.R==True):\n",
    "              recoveredList.append(person)\n",
    "              if (person.recT is None):\n",
    "                  person.recT = t;\n",
    "          if (person.infT==t):\n",
    "              exposedX.append(person.infX)\n",
    "              exposedY.append(person.infY)\n",
    "              exposedT.append(person.infT)\n",
    "\n",
    "      infectiousCount.append(len(infectiousList))\n",
    "\n",
    "      for p in tqdm(peopleList, desc=\"Infection\", leave=False):\n",
    "          p.infecting(peopleList, infRate, reproduction, t) #infecting function is included in Human.py\n",
    "\n",
    "      iteration_time = time.time()-start\n",
    "      total_simulation_time+=iteration_time\n",
    "      print(\"Simulation Day: {:3d},  Remaining Days: {:3d},  # of infectious people: {:5d}  took  {:4.2f} seconds\".format(t, days-t,len(exposedList),iteration_time))\n",
    "\n",
    "\n",
    "  total_simulation_time/=60.0 # get minutes\n",
    "  hours = False\n",
    "  daysBool = False\n",
    "  if total_simulation_time >= 60:\n",
    "      total_simulation_time/=60.0 # get hours\n",
    "      hours = True\n",
    "      if total_simulation_time >= 24:\n",
    "          total_simulation_time/=24.0\n",
    "          daysBool = True\n",
    "\n",
    "  if not (hours and days):\n",
    "      print(\"\\n\\n Total Simulation Time: {:.1f} minutes.\".format(total_simulation_time))\n",
    "  elif not daysBool:\n",
    "      print(\"\\n\\n Total Simulation Time: {:.1f} hours.\".format(total_simulation_time))\n",
    "  else:\n",
    "      print(\"\\n\\n Total Simulation Time: {:.1f} days.\".format(total_simulation_time))\n",
    "\n",
    "  rl=realdata['Positive']\n",
    "  mae = np.mean(np.abs(infectiousCount-rl))\n",
    "  return mae"
   ]
  },
  {
   "cell_type": "markdown",
   "metadata": {
    "id": "4s3oC_xL2e3r"
   },
   "source": [
    "This saves the simulation results to a .csv file to test for stochasticity later. Each time the simulation is run, every function starting with \"Synthesize a Population\" must be rerun."
   ]
  },
  {
   "cell_type": "code",
   "execution_count": null,
   "metadata": {
    "id": "kuDSWn5nHB7Q"
   },
   "outputs": [],
   "source": [
    "url = 'https://raw.githubusercontent.com/cybergis/QueenAnneFlu/master/data/{}/fludata.csv'.format(CITY)\n",
    "realdata = pd.read_csv(url)\n",
    "introRate = 2.36077100e-04\n",
    "reproduction = 0.92678502\n",
    "infRate = 6.33373437e-01\n",
    "days = 22\n",
    "mae=ABMprocess(introRate,reproduction,infRate,days,peopleList,realdata)\n",
    "print('MAE is:',mae)"
   ]
  },
  {
   "cell_type": "code",
   "execution_count": null,
   "metadata": {
    "id": "iObysGJ9HskA"
   },
   "outputs": [],
   "source": [
    "# @title PSO optimization\n",
    "# Define the objective function to be optimized\n",
    "def objective_function(x,**args_dict):\n",
    "    days = args_dict['days']\n",
    "    peopleList = args_dict['peopleList']\n",
    "    realdata = args_dict['realdata']\n",
    "    result = np.zeros((x.shape[0]))\n",
    "    for i, subarray in enumerate(x):\n",
    "      introRate, reproduction, infRate=subarray\n",
    "      # Call the ABMprocess function with the given input parameters\n",
    "      result[i] = ABMprocess(introRate,reproduction,infRate,days,peopleList,realdata)\n",
    "      print(f\"\\n For particle {i+1}, introRate, reproduction, infRate: {subarray} and Results are: {result[i]}] \")\n",
    "    # Since pyswarms aims to minimize the objective function, we need to return the negative of the result\n",
    "    return result\n",
    "\n",
    "# Define the search space for the input parameters\n",
    "lb = [0.0, 0.01, 0.01]  # Lower bounds for introRate, reproduction, infRate\n",
    "ub = [0.001, 5, 1]  # Upper bounds for introRate, reproduction, infRate\n",
    "\n",
    "args_dict = {\n",
    "    'days': days,\n",
    "    'peopleList': peopleList,\n",
    "    'realdata': realdata\n",
    "}\n",
    "# Initialize the optimizer\n",
    "options = {'c1': 0.5, 'c2': 0.3, 'w':0.9}\n",
    "optimizer = ps.single.GlobalBestPSO(n_particles=20, dimensions=3, options=options, bounds=(lb, ub))\n",
    "\n",
    "# Perform optimization\n",
    "best_cost, best_pos = optimizer.optimize(objective_function,30, **args_dict)\n",
    "\n",
    "print(\"Optimal introRate, reproduction, infRate:\", best_pos)\n",
    "print(\"Optimal objective function value:\", best_cost)  # Convert back to the original objective function value"
   ]
  },
  {
   "cell_type": "code",
   "execution_count": null,
   "metadata": {
    "id": "ekvaPLDQ1xUt"
   },
   "outputs": [],
   "source": [
    "# Access position and cost history\n",
    "positions_history = optimizer.pos_history\n",
    "costs_history = optimizer.cost_history\n",
    "\n",
    "# Print positions and scores for all iterations\n",
    "for iteration, (positions, costs) in enumerate(zip(positions_history, costs_history), 1):\n",
    "    print(f\"Iteration {iteration}:\")\n",
    "    if isinstance(costs, float):  # Check if costs is a scalar (single float)\n",
    "        print(f\"Particle 1 - Position: {positions}\\n , Score: {costs}\")\n",
    "    else:\n",
    "        for particle_idx, (position, cost) in enumerate(zip(positions, costs), 1):\n",
    "            print(f\"Particle {particle_idx} - Position: {position}\\n , Score: {cost}\")\n"
   ]
  }
 ],
 "metadata": {
  "colab": {
   "provenance": []
  },
  "kernelspec": {
   "display_name": "Python 3",
   "language": "python",
   "name": "python3-0.8.0"
  },
  "language_info": {
   "codemirror_mode": {
    "name": "ipython",
    "version": 3
   },
   "file_extension": ".py",
   "mimetype": "text/x-python",
   "name": "python",
   "nbconvert_exporter": "python",
   "pygments_lexer": "ipython3",
   "version": "3.7.6"
  },
  "widgets": {
   "application/vnd.jupyter.widget-state+json": {
    "196ab0fcb38a46ba859b896d5032609a": {
     "model_module": "@jupyter-widgets/controls",
     "model_name": "IntSliderModel",
     "model_module_version": "1.5.0",
     "state": {
      "_dom_classes": [],
      "_model_module": "@jupyter-widgets/controls",
      "_model_module_version": "1.5.0",
      "_model_name": "IntSliderModel",
      "_view_count": null,
      "_view_module": "@jupyter-widgets/controls",
      "_view_module_version": "1.5.0",
      "_view_name": "IntSliderView",
      "continuous_update": true,
      "description": "introRate",
      "description_tooltip": null,
      "disabled": false,
      "layout": "IPY_MODEL_b6459ffff5804ecba1b1256f1699492e",
      "max": 10,
      "min": 0,
      "orientation": "horizontal",
      "readout": true,
      "readout_format": "d",
      "step": 1,
      "style": "IPY_MODEL_813bec71045f4f81b4990782100b8979",
      "value": 5
     }
    },
    "b6459ffff5804ecba1b1256f1699492e": {
     "model_module": "@jupyter-widgets/base",
     "model_name": "LayoutModel",
     "model_module_version": "1.2.0",
     "state": {
      "_model_module": "@jupyter-widgets/base",
      "_model_module_version": "1.2.0",
      "_model_name": "LayoutModel",
      "_view_count": null,
      "_view_module": "@jupyter-widgets/base",
      "_view_module_version": "1.2.0",
      "_view_name": "LayoutView",
      "align_content": null,
      "align_items": null,
      "align_self": null,
      "border": null,
      "bottom": null,
      "display": null,
      "flex": null,
      "flex_flow": null,
      "grid_area": null,
      "grid_auto_columns": null,
      "grid_auto_flow": null,
      "grid_auto_rows": null,
      "grid_column": null,
      "grid_gap": null,
      "grid_row": null,
      "grid_template_areas": null,
      "grid_template_columns": null,
      "grid_template_rows": null,
      "height": null,
      "justify_content": null,
      "justify_items": null,
      "left": null,
      "margin": null,
      "max_height": null,
      "max_width": null,
      "min_height": null,
      "min_width": null,
      "object_fit": null,
      "object_position": null,
      "order": null,
      "overflow": null,
      "overflow_x": null,
      "overflow_y": null,
      "padding": null,
      "right": null,
      "top": null,
      "visibility": null,
      "width": null
     }
    },
    "813bec71045f4f81b4990782100b8979": {
     "model_module": "@jupyter-widgets/controls",
     "model_name": "SliderStyleModel",
     "model_module_version": "1.5.0",
     "state": {
      "_model_module": "@jupyter-widgets/controls",
      "_model_module_version": "1.5.0",
      "_model_name": "SliderStyleModel",
      "_view_count": null,
      "_view_module": "@jupyter-widgets/base",
      "_view_module_version": "1.2.0",
      "_view_name": "StyleView",
      "description_width": "",
      "handle_color": null
     }
    },
    "74cb2c735bd04d6a92b0249fa7a6a4cb": {
     "model_module": "@jupyter-widgets/controls",
     "model_name": "FloatSliderModel",
     "model_module_version": "1.5.0",
     "state": {
      "_dom_classes": [],
      "_model_module": "@jupyter-widgets/controls",
      "_model_module_version": "1.5.0",
      "_model_name": "FloatSliderModel",
      "_view_count": null,
      "_view_module": "@jupyter-widgets/controls",
      "_view_module_version": "1.5.0",
      "_view_name": "FloatSliderView",
      "continuous_update": true,
      "description": "reproduction",
      "description_tooltip": null,
      "disabled": false,
      "layout": "IPY_MODEL_5c1c89e21dee4b2a9437f1cb43b7f2d1",
      "max": 5,
      "min": 0,
      "orientation": "horizontal",
      "readout": true,
      "readout_format": ".2f",
      "step": 0.1,
      "style": "IPY_MODEL_cb0f3b6b1856484d9239bcad2d6f7722",
      "value": 2.4
     }
    },
    "5c1c89e21dee4b2a9437f1cb43b7f2d1": {
     "model_module": "@jupyter-widgets/base",
     "model_name": "LayoutModel",
     "model_module_version": "1.2.0",
     "state": {
      "_model_module": "@jupyter-widgets/base",
      "_model_module_version": "1.2.0",
      "_model_name": "LayoutModel",
      "_view_count": null,
      "_view_module": "@jupyter-widgets/base",
      "_view_module_version": "1.2.0",
      "_view_name": "LayoutView",
      "align_content": null,
      "align_items": null,
      "align_self": null,
      "border": null,
      "bottom": null,
      "display": null,
      "flex": null,
      "flex_flow": null,
      "grid_area": null,
      "grid_auto_columns": null,
      "grid_auto_flow": null,
      "grid_auto_rows": null,
      "grid_column": null,
      "grid_gap": null,
      "grid_row": null,
      "grid_template_areas": null,
      "grid_template_columns": null,
      "grid_template_rows": null,
      "height": null,
      "justify_content": null,
      "justify_items": null,
      "left": null,
      "margin": null,
      "max_height": null,
      "max_width": null,
      "min_height": null,
      "min_width": null,
      "object_fit": null,
      "object_position": null,
      "order": null,
      "overflow": null,
      "overflow_x": null,
      "overflow_y": null,
      "padding": null,
      "right": null,
      "top": null,
      "visibility": null,
      "width": null
     }
    },
    "cb0f3b6b1856484d9239bcad2d6f7722": {
     "model_module": "@jupyter-widgets/controls",
     "model_name": "SliderStyleModel",
     "model_module_version": "1.5.0",
     "state": {
      "_model_module": "@jupyter-widgets/controls",
      "_model_module_version": "1.5.0",
      "_model_name": "SliderStyleModel",
      "_view_count": null,
      "_view_module": "@jupyter-widgets/base",
      "_view_module_version": "1.2.0",
      "_view_name": "StyleView",
      "description_width": "",
      "handle_color": null
     }
    },
    "0bf184a9454e42b79f94166ee9b3aa37": {
     "model_module": "@jupyter-widgets/controls",
     "model_name": "FloatSliderModel",
     "model_module_version": "1.5.0",
     "state": {
      "_dom_classes": [],
      "_model_module": "@jupyter-widgets/controls",
      "_model_module_version": "1.5.0",
      "_model_name": "FloatSliderModel",
      "_view_count": null,
      "_view_module": "@jupyter-widgets/controls",
      "_view_module_version": "1.5.0",
      "_view_name": "FloatSliderView",
      "continuous_update": true,
      "description": "infRate",
      "description_tooltip": null,
      "disabled": false,
      "layout": "IPY_MODEL_9be26369d40e487ebc3712ae80337cca",
      "max": 1,
      "min": 0,
      "orientation": "horizontal",
      "readout": true,
      "readout_format": ".2f",
      "step": 0.01,
      "style": "IPY_MODEL_6400092c67044c67ac77c0f8fc42113f",
      "value": 0.18
     }
    },
    "9be26369d40e487ebc3712ae80337cca": {
     "model_module": "@jupyter-widgets/base",
     "model_name": "LayoutModel",
     "model_module_version": "1.2.0",
     "state": {
      "_model_module": "@jupyter-widgets/base",
      "_model_module_version": "1.2.0",
      "_model_name": "LayoutModel",
      "_view_count": null,
      "_view_module": "@jupyter-widgets/base",
      "_view_module_version": "1.2.0",
      "_view_name": "LayoutView",
      "align_content": null,
      "align_items": null,
      "align_self": null,
      "border": null,
      "bottom": null,
      "display": null,
      "flex": null,
      "flex_flow": null,
      "grid_area": null,
      "grid_auto_columns": null,
      "grid_auto_flow": null,
      "grid_auto_rows": null,
      "grid_column": null,
      "grid_gap": null,
      "grid_row": null,
      "grid_template_areas": null,
      "grid_template_columns": null,
      "grid_template_rows": null,
      "height": null,
      "justify_content": null,
      "justify_items": null,
      "left": null,
      "margin": null,
      "max_height": null,
      "max_width": null,
      "min_height": null,
      "min_width": null,
      "object_fit": null,
      "object_position": null,
      "order": null,
      "overflow": null,
      "overflow_x": null,
      "overflow_y": null,
      "padding": null,
      "right": null,
      "top": null,
      "visibility": null,
      "width": null
     }
    },
    "6400092c67044c67ac77c0f8fc42113f": {
     "model_module": "@jupyter-widgets/controls",
     "model_name": "SliderStyleModel",
     "model_module_version": "1.5.0",
     "state": {
      "_model_module": "@jupyter-widgets/controls",
      "_model_module_version": "1.5.0",
      "_model_name": "SliderStyleModel",
      "_view_count": null,
      "_view_module": "@jupyter-widgets/base",
      "_view_module_version": "1.2.0",
      "_view_name": "StyleView",
      "description_width": "",
      "handle_color": null
     }
    },
    "0c4c94cdedb24125bb53b50d5496bf4f": {
     "model_module": "@jupyter-widgets/controls",
     "model_name": "IntSliderModel",
     "model_module_version": "1.5.0",
     "state": {
      "_dom_classes": [],
      "_model_module": "@jupyter-widgets/controls",
      "_model_module_version": "1.5.0",
      "_model_name": "IntSliderModel",
      "_view_count": null,
      "_view_module": "@jupyter-widgets/controls",
      "_view_module_version": "1.5.0",
      "_view_name": "IntSliderView",
      "continuous_update": true,
      "description": "days",
      "description_tooltip": null,
      "disabled": false,
      "layout": "IPY_MODEL_06e2fb7c84bb4387af83ab4cfa1b54f6",
      "max": 155,
      "min": 0,
      "orientation": "horizontal",
      "readout": true,
      "readout_format": "d",
      "step": 1,
      "style": "IPY_MODEL_8c744d0789b4450ab1546709000b9600",
      "value": 30
     }
    },
    "06e2fb7c84bb4387af83ab4cfa1b54f6": {
     "model_module": "@jupyter-widgets/base",
     "model_name": "LayoutModel",
     "model_module_version": "1.2.0",
     "state": {
      "_model_module": "@jupyter-widgets/base",
      "_model_module_version": "1.2.0",
      "_model_name": "LayoutModel",
      "_view_count": null,
      "_view_module": "@jupyter-widgets/base",
      "_view_module_version": "1.2.0",
      "_view_name": "LayoutView",
      "align_content": null,
      "align_items": null,
      "align_self": null,
      "border": null,
      "bottom": null,
      "display": null,
      "flex": null,
      "flex_flow": null,
      "grid_area": null,
      "grid_auto_columns": null,
      "grid_auto_flow": null,
      "grid_auto_rows": null,
      "grid_column": null,
      "grid_gap": null,
      "grid_row": null,
      "grid_template_areas": null,
      "grid_template_columns": null,
      "grid_template_rows": null,
      "height": null,
      "justify_content": null,
      "justify_items": null,
      "left": null,
      "margin": null,
      "max_height": null,
      "max_width": null,
      "min_height": null,
      "min_width": null,
      "object_fit": null,
      "object_position": null,
      "order": null,
      "overflow": null,
      "overflow_x": null,
      "overflow_y": null,
      "padding": null,
      "right": null,
      "top": null,
      "visibility": null,
      "width": null
     }
    },
    "8c744d0789b4450ab1546709000b9600": {
     "model_module": "@jupyter-widgets/controls",
     "model_name": "SliderStyleModel",
     "model_module_version": "1.5.0",
     "state": {
      "_model_module": "@jupyter-widgets/controls",
      "_model_module_version": "1.5.0",
      "_model_name": "SliderStyleModel",
      "_view_count": null,
      "_view_module": "@jupyter-widgets/base",
      "_view_module_version": "1.2.0",
      "_view_name": "StyleView",
      "description_width": "",
      "handle_color": null
     }
    }
   }
  }
 },
 "nbformat": 4,
 "nbformat_minor": 0
}
